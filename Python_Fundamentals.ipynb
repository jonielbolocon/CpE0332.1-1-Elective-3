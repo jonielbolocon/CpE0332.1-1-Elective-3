{
  "cells": [
    {
      "cell_type": "markdown",
      "metadata": {
        "id": "view-in-github",
        "colab_type": "text"
      },
      "source": [
        "<a href=\"https://colab.research.google.com/github/jonielbolocon/CpE0332.1-1-Elective-3/blob/main/Python_Fundamentals.ipynb\" target=\"_parent\"><img src=\"https://colab.research.google.com/assets/colab-badge.svg\" alt=\"Open In Colab\"/></a>"
      ]
    },
    {
      "cell_type": "markdown",
      "source": [
        "Python indentation"
      ],
      "metadata": {
        "id": "jxRxPdd3GpGM"
      }
    },
    {
      "cell_type": "code",
      "source": [
        "x = 5\n",
        "y = 2\n",
        "\n",
        "if x < y:\n",
        "  print(\"Five is greater than 2\")"
      ],
      "metadata": {
        "id": "DD_LzzoTGsSl"
      },
      "execution_count": null,
      "outputs": []
    },
    {
      "cell_type": "markdown",
      "source": [
        "Python comments"
      ],
      "metadata": {
        "id": "gYZkaTghHpJ0"
      }
    },
    {
      "cell_type": "code",
      "source": [
        "print(\"Hello world\") #This is a python comment"
      ],
      "metadata": {
        "colab": {
          "base_uri": "https://localhost:8080/"
        },
        "id": "6N9PBXtKHr1q",
        "outputId": "04c66268-8f69-4180-c129-5a8e0ea16079"
      },
      "execution_count": null,
      "outputs": [
        {
          "output_type": "stream",
          "name": "stdout",
          "text": [
            "Hello world\n"
          ]
        }
      ]
    },
    {
      "cell_type": "markdown",
      "source": [
        "Python Variable"
      ],
      "metadata": {
        "id": "EtyYgw4UH18c"
      }
    },
    {
      "cell_type": "code",
      "source": [
        "z = 1\n",
        "z,s = 0, -1\n",
        "z,s,t=8,9,10\n",
        "\n",
        "z\n",
        "s\n",
        "t"
      ],
      "metadata": {
        "colab": {
          "base_uri": "https://localhost:8080/"
        },
        "id": "9rPWZUrmH4kH",
        "outputId": "306277e1-c15d-40f0-9d28-63b6af1c367b"
      },
      "execution_count": null,
      "outputs": [
        {
          "output_type": "execute_result",
          "data": {
            "text/plain": [
              "10"
            ]
          },
          "metadata": {},
          "execution_count": 17
        }
      ]
    },
    {
      "cell_type": "markdown",
      "source": [
        "Casting"
      ],
      "metadata": {
        "id": "u-UmMu-rIozl"
      }
    },
    {
      "cell_type": "code",
      "source": [
        "b = \"Joniel\" #This is a string\n",
        "b = int(4)\n",
        "b"
      ],
      "metadata": {
        "colab": {
          "base_uri": "https://localhost:8080/"
        },
        "id": "UJl5Xu1RIwwH",
        "outputId": "4bef7564-6c24-4c3b-c028-148eb06d210a"
      },
      "execution_count": null,
      "outputs": [
        {
          "output_type": "execute_result",
          "data": {
            "text/plain": [
              "4"
            ]
          },
          "metadata": {},
          "execution_count": 18
        }
      ]
    },
    {
      "cell_type": "markdown",
      "source": [
        "Type() Function"
      ],
      "metadata": {
        "id": "2YSMcgJUI_yb"
      }
    },
    {
      "cell_type": "code",
      "source": [
        "print(type(b))"
      ],
      "metadata": {
        "colab": {
          "base_uri": "https://localhost:8080/"
        },
        "id": "jjLjsOOJJC5n",
        "outputId": "7c46c31c-6642-4e17-d2b5-18b3c3013a3a"
      },
      "execution_count": null,
      "outputs": [
        {
          "output_type": "stream",
          "name": "stdout",
          "text": [
            "<class 'int'>\n"
          ]
        }
      ]
    },
    {
      "cell_type": "markdown",
      "source": [
        "Double Quotes and Single Quotes"
      ],
      "metadata": {
        "id": "5C02yQDbJb6f"
      }
    },
    {
      "cell_type": "code",
      "source": [
        "w = \"Onin\"\n",
        "print(w)\n",
        "\n",
        "q = 'Onin'\n",
        "print(q)"
      ],
      "metadata": {
        "colab": {
          "base_uri": "https://localhost:8080/"
        },
        "id": "NErxzxodJiPX",
        "outputId": "934b93e9-a946-4cfd-fa58-eaf59e7e69fa"
      },
      "execution_count": null,
      "outputs": [
        {
          "output_type": "stream",
          "name": "stdout",
          "text": [
            "Onin\n",
            "Onin\n"
          ]
        }
      ]
    },
    {
      "cell_type": "markdown",
      "source": [
        "Case sensitive"
      ],
      "metadata": {
        "id": "NvcwHrYOJzbF"
      }
    },
    {
      "cell_type": "code",
      "source": [
        "a=4\n",
        "A=\"Sally\" #A will not overwrite a\n",
        "\n",
        "print(a)\n",
        "print(A)"
      ],
      "metadata": {
        "colab": {
          "base_uri": "https://localhost:8080/"
        },
        "id": "YQKVRD5FJ1x8",
        "outputId": "65ac8393-888e-4967-eaac-eafe38a68e62"
      },
      "execution_count": null,
      "outputs": [
        {
          "output_type": "stream",
          "name": "stdout",
          "text": [
            "4\n",
            "Sally\n"
          ]
        }
      ]
    },
    {
      "cell_type": "markdown",
      "source": [
        "Multiple Variables"
      ],
      "metadata": {
        "id": "Ehyus3tbMOGT"
      }
    },
    {
      "cell_type": "code",
      "source": [
        "x, y, z= \"one\", \"two\", \"three\"\n",
        "print(x)\n",
        "print(y)\n",
        "print(z)"
      ],
      "metadata": {
        "colab": {
          "base_uri": "https://localhost:8080/"
        },
        "id": "N2-goPtjMcOd",
        "outputId": "8639fac3-6ce4-4662-ce00-91c6345dd19a"
      },
      "execution_count": null,
      "outputs": [
        {
          "output_type": "stream",
          "name": "stdout",
          "text": [
            "one\n",
            "two\n",
            "three\n"
          ]
        }
      ]
    },
    {
      "cell_type": "markdown",
      "source": [
        "Mutiple Variables with Single Value"
      ],
      "metadata": {
        "id": "YaCIp4i8M0V3"
      }
    },
    {
      "cell_type": "code",
      "source": [
        "k = l = m = \"four\"\n",
        "print(k)\n",
        "print(l)\n",
        "print(m)"
      ],
      "metadata": {
        "colab": {
          "base_uri": "https://localhost:8080/"
        },
        "id": "OGysJVo3M3BK",
        "outputId": "b32936b4-1cfc-41a0-e5e0-ccc9eeeb51e5"
      },
      "execution_count": null,
      "outputs": [
        {
          "output_type": "stream",
          "name": "stdout",
          "text": [
            "four\n",
            "four\n",
            "four\n"
          ]
        }
      ]
    },
    {
      "cell_type": "markdown",
      "source": [
        "Output Variable and Concatenation"
      ],
      "metadata": {
        "id": "gP1oj3B2NN23"
      }
    },
    {
      "cell_type": "code",
      "source": [
        "n = \"enjoying\"\n",
        "\n",
        "print(\"Python programming is \" + n)"
      ],
      "metadata": {
        "colab": {
          "base_uri": "https://localhost:8080/"
        },
        "id": "A7e8D_kANQTQ",
        "outputId": "5571d66b-92de-49ed-8d2f-b85b3fdf6d2c"
      },
      "execution_count": null,
      "outputs": [
        {
          "output_type": "stream",
          "name": "stdout",
          "text": [
            "Python programming is enjoying\n"
          ]
        }
      ]
    },
    {
      "cell_type": "markdown",
      "source": [
        "Arithmetic Operations"
      ],
      "metadata": {
        "id": "RERzWV-kQra8"
      }
    },
    {
      "cell_type": "code",
      "source": [
        "t = 5\n",
        "u = 5\n",
        "\n",
        "print(t+u)\n",
        "print(t-u)\n",
        "print(t*u)\n",
        "print(t/u)\n",
        "print(round(5/3))\n",
        "print(t//u)\n",
        "print(t%u)\n",
        "print(t**u)"
      ],
      "metadata": {
        "id": "tAdj5eEhQzIn",
        "colab": {
          "base_uri": "https://localhost:8080/"
        },
        "outputId": "b1dd39a6-dcc4-4200-e264-28ccf43813ff"
      },
      "execution_count": 37,
      "outputs": [
        {
          "output_type": "stream",
          "name": "stdout",
          "text": [
            "10\n",
            "0\n",
            "25\n",
            "1.0\n",
            "2\n",
            "1\n",
            "0\n",
            "3125\n"
          ]
        }
      ]
    },
    {
      "cell_type": "markdown",
      "source": [
        "Assignment Calculator"
      ],
      "metadata": {
        "id": "_O4V-DRnRpY_"
      }
    },
    {
      "cell_type": "code",
      "source": [
        "t+=3\n",
        "print(t)"
      ],
      "metadata": {
        "colab": {
          "base_uri": "https://localhost:8080/"
        },
        "id": "LqYs6VWxRrBx",
        "outputId": "29809873-5117-452d-c60f-8dc340eeb160"
      },
      "execution_count": 40,
      "outputs": [
        {
          "output_type": "stream",
          "name": "stdout",
          "text": [
            "11\n"
          ]
        }
      ]
    },
    {
      "cell_type": "markdown",
      "source": [
        "Comparison operator"
      ],
      "metadata": {
        "id": "Gu1SM1jiR6BH"
      }
    },
    {
      "cell_type": "code",
      "source": [
        "print(x==y)\n",
        "print(x!=y)\n",
        "print(x>y)\n",
        "print(x<y)"
      ],
      "metadata": {
        "colab": {
          "base_uri": "https://localhost:8080/"
        },
        "id": "gHban6olR8CH",
        "outputId": "ee455e8f-0916-4e37-9620-60dfb339f4c5"
      },
      "execution_count": 43,
      "outputs": [
        {
          "output_type": "stream",
          "name": "stdout",
          "text": [
            "False\n",
            "True\n",
            "False\n",
            "True\n"
          ]
        }
      ]
    },
    {
      "cell_type": "markdown",
      "source": [
        "Logical Operators"
      ],
      "metadata": {
        "id": "mpxc1aLISJvE"
      }
    },
    {
      "cell_type": "code",
      "source": [
        "print(x==y and x!=y)\n",
        "print(x==y or x!=y)\n",
        "print(not(x==y or x!=y))"
      ],
      "metadata": {
        "colab": {
          "base_uri": "https://localhost:8080/"
        },
        "id": "Ojf_Q3hvSN1V",
        "outputId": "ff70b080-066d-4b96-ac7c-d192a5efb4e1"
      },
      "execution_count": 47,
      "outputs": [
        {
          "output_type": "stream",
          "name": "stdout",
          "text": [
            "False\n",
            "True\n",
            "False\n"
          ]
        }
      ]
    },
    {
      "cell_type": "markdown",
      "source": [
        "Identity Operators"
      ],
      "metadata": {
        "id": "1wJs8EgtSg72"
      }
    },
    {
      "cell_type": "code",
      "source": [
        "x is y\n",
        "x is not y"
      ],
      "metadata": {
        "colab": {
          "base_uri": "https://localhost:8080/"
        },
        "id": "USHoDpteSm1L",
        "outputId": "b04a5b4b-d35c-43b5-95bc-f4a3083707b9"
      },
      "execution_count": 48,
      "outputs": [
        {
          "output_type": "execute_result",
          "data": {
            "text/plain": [
              "True"
            ]
          },
          "metadata": {},
          "execution_count": 48
        }
      ]
    },
    {
      "cell_type": "markdown",
      "source": [
        "Bitwise Operators"
      ],
      "metadata": {
        "id": "mG7khDnXSsli"
      }
    },
    {
      "cell_type": "code",
      "source": [
        "print(10 | 1)\n",
        "print(t>>1)"
      ],
      "metadata": {
        "colab": {
          "base_uri": "https://localhost:8080/"
        },
        "id": "g38zzeznSuhS",
        "outputId": "f9379755-49d0-46cb-bddc-8f5ec448160c"
      },
      "execution_count": 51,
      "outputs": [
        {
          "output_type": "stream",
          "name": "stdout",
          "text": [
            "11\n",
            "5\n"
          ]
        }
      ]
    }
  ],
  "metadata": {
    "colab": {
      "provenance": [],
      "include_colab_link": true
    },
    "kernelspec": {
      "display_name": "Python 3",
      "name": "python3"
    }
  },
  "nbformat": 4,
  "nbformat_minor": 0
}