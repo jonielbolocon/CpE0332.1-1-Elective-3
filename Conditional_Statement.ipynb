{
  "nbformat": 4,
  "nbformat_minor": 0,
  "metadata": {
    "colab": {
      "provenance": [],
      "authorship_tag": "ABX9TyM9R+Ww0tLji5hBFOpVVzCk",
      "include_colab_link": true
    },
    "kernelspec": {
      "name": "python3",
      "display_name": "Python 3"
    },
    "language_info": {
      "name": "python"
    }
  },
  "cells": [
    {
      "cell_type": "markdown",
      "metadata": {
        "id": "view-in-github",
        "colab_type": "text"
      },
      "source": [
        "<a href=\"https://colab.research.google.com/github/jonielbolocon/CpE0332.1-1-Elective-3/blob/main/Conditional_Statement.ipynb\" target=\"_parent\"><img src=\"https://colab.research.google.com/assets/colab-badge.svg\" alt=\"Open In Colab\"/></a>"
      ]
    },
    {
      "cell_type": "markdown",
      "source": [
        "If Statement"
      ],
      "metadata": {
        "id": "2933gMehWKcE"
      }
    },
    {
      "cell_type": "code",
      "source": [
        "a = 12\n",
        "b = 100\n",
        "\n",
        "if a < b:\n",
        "  print(\"a is greater than b\")"
      ],
      "metadata": {
        "colab": {
          "base_uri": "https://localhost:8080/"
        },
        "id": "DNbD7Tj9WNHH",
        "outputId": "7ff7499b-34eb-4dc4-9c78-39a53fef2632"
      },
      "execution_count": 2,
      "outputs": [
        {
          "output_type": "stream",
          "name": "stdout",
          "text": [
            "a is greater than b\n"
          ]
        }
      ]
    },
    {
      "cell_type": "markdown",
      "source": [
        "Elif Statement"
      ],
      "metadata": {
        "id": "qTD1mC_RWh29"
      }
    },
    {
      "cell_type": "code",
      "source": [
        "print(\"Enter your age\")\n",
        "age = int(input())\n",
        "\n",
        "if age >= 18:\n",
        "  print(\"The person is eligeble to get a driver license\")\n",
        "elif age < 18:\n",
        "    print(\"The person is not eligeble to get a driver license\")"
      ],
      "metadata": {
        "colab": {
          "base_uri": "https://localhost:8080/"
        },
        "id": "GFhivbOAWjih",
        "outputId": "0c1f177b-294b-48bf-91c6-e69bff8eeec7"
      },
      "execution_count": 7,
      "outputs": [
        {
          "output_type": "stream",
          "name": "stdout",
          "text": [
            "Enter your age\n",
            "20\n",
            "The person is eligeble to get a driver license\n"
          ]
        }
      ]
    },
    {
      "cell_type": "markdown",
      "source": [
        "Else Statement"
      ],
      "metadata": {
        "id": "zXd4Y7UvXsbq"
      }
    },
    {
      "cell_type": "code",
      "source": [
        "print(\"Enter an Integer:\")\n",
        "x = int(input())\n",
        "\n",
        "if x > 0:\n",
        "  print(\"Positive number: \")\n",
        "elif x < 0:\n",
        "  print(\"Negative number: \")\n",
        "else:\n",
        "  print(\"Zero\")"
      ],
      "metadata": {
        "colab": {
          "base_uri": "https://localhost:8080/"
        },
        "id": "YGzEo37DXunN",
        "outputId": "c2fd9ccb-c38b-4073-d24b-497d6b840a3e"
      },
      "execution_count": 9,
      "outputs": [
        {
          "output_type": "stream",
          "name": "stdout",
          "text": [
            "Enter an Integer:\n",
            "2\n",
            "Positive number: \n"
          ]
        }
      ]
    },
    {
      "cell_type": "markdown",
      "source": [
        "Short Hand if Statement"
      ],
      "metadata": {
        "id": "kgWzVy5hYS8s"
      }
    },
    {
      "cell_type": "code",
      "source": [
        "if a<b : print(\"a is less than b\")"
      ],
      "metadata": {
        "colab": {
          "base_uri": "https://localhost:8080/"
        },
        "id": "O2W71jMFYWW5",
        "outputId": "d5aeba8e-1c3c-4eb1-c7ab-3c553b7c6e89"
      },
      "execution_count": 10,
      "outputs": [
        {
          "output_type": "stream",
          "name": "stdout",
          "text": [
            "a is less than b\n"
          ]
        }
      ]
    },
    {
      "cell_type": "markdown",
      "source": [
        "Short Hand if Else Statement"
      ],
      "metadata": {
        "id": "l7UFEkvBYgyF"
      }
    },
    {
      "cell_type": "code",
      "source": [
        "print(\"a is greater than b\") if a>b else print (\"b is greater than a\")"
      ],
      "metadata": {
        "colab": {
          "base_uri": "https://localhost:8080/"
        },
        "id": "aJbev1-EYkti",
        "outputId": "3b14e41f-acc5-41c9-9725-e7550fefaa66"
      },
      "execution_count": 11,
      "outputs": [
        {
          "output_type": "stream",
          "name": "stdout",
          "text": [
            "b is greater than a\n"
          ]
        }
      ]
    },
    {
      "cell_type": "markdown",
      "source": [
        "And Statement"
      ],
      "metadata": {
        "id": "Fs7JWmSbYv4U"
      }
    },
    {
      "cell_type": "code",
      "source": [
        "c = 500\n",
        "if a < b and c > a:\n",
        "  print(\"both statements are true\")"
      ],
      "metadata": {
        "colab": {
          "base_uri": "https://localhost:8080/"
        },
        "id": "wtVbgWlQYxVe",
        "outputId": "0eb3037a-9a6e-403f-93f5-24059f229751"
      },
      "execution_count": 14,
      "outputs": [
        {
          "output_type": "stream",
          "name": "stdout",
          "text": [
            "both statements are true\n"
          ]
        }
      ]
    },
    {
      "cell_type": "markdown",
      "source": [
        "OR Statement"
      ],
      "metadata": {
        "id": "1SOE2sasZCgp"
      }
    },
    {
      "cell_type": "code",
      "source": [
        "if a < b or c > a:\n",
        "  print(\"both statements are true\")"
      ],
      "metadata": {
        "colab": {
          "base_uri": "https://localhost:8080/"
        },
        "id": "lL8swfX0ZFG6",
        "outputId": "1f9cf700-4d09-432f-e0d0-0ab713f7a210"
      },
      "execution_count": 15,
      "outputs": [
        {
          "output_type": "stream",
          "name": "stdout",
          "text": [
            "both statements are true\n"
          ]
        }
      ]
    },
    {
      "cell_type": "markdown",
      "source": [
        "Nested if Statement"
      ],
      "metadata": {
        "id": "KZIg02U5ZTvV"
      }
    },
    {
      "cell_type": "code",
      "source": [
        "print(\"Enter an integer: \")\n",
        "x = int(input())\n",
        "\n",
        "if x > 10:\n",
        "  print(\"above 10\")\n",
        "  if x > 20:\n",
        "    print(\"and also above 20\")\n",
        "    if x > 30:\n",
        "      print(\"and also above 30\")\n",
        "      if x > 40:\n",
        "        print(\"and also above 40\")\n",
        "        if x > 50:\n",
        "          print(\"and also above 50\")\n",
        "        else:\n",
        "          print(\"not above 50\")\n",
        "      else:\n",
        "        print(\"not above 40\")\n",
        "    else:\n",
        "      print(\"not above 30\")\n",
        "  else:\n",
        "    print(\"not above 20\")\n",
        "else:\n",
        "  print(\"10 or below\")\n"
      ],
      "metadata": {
        "colab": {
          "base_uri": "https://localhost:8080/"
        },
        "id": "4U0UydMHZVok",
        "outputId": "5c00173d-3afe-4fb1-c58d-a2cea8fbfe05"
      },
      "execution_count": 22,
      "outputs": [
        {
          "output_type": "stream",
          "name": "stdout",
          "text": [
            "Enter an integer: \n",
            "10\n",
            "10 or below\n"
          ]
        }
      ]
    },
    {
      "cell_type": "markdown",
      "source": [
        "Application 2 Write a program to determine if the grades are:\n",
        "\n",
        "Write a program to determine if the grades are:\n",
        "\n",
        "\tIf:\n",
        "\t\t grade > = 75 , “Passed”\n",
        "\t\tgrade = 74, “Remedial”\n",
        "\t\tgrade < 74, “Failed”\n",
        "\t\tnote: if grade is a negative number, it will not be accepted\n"
      ],
      "metadata": {
        "id": "uKEcgIbXbqML"
      }
    },
    {
      "cell_type": "code",
      "source": [
        "grade = float(input(\"Enter the grade: \"))\n",
        "\n",
        "if grade < 0:\n",
        "    print(\"Invalid grade. Please enter a non-negative number.\")\n",
        "elif grade >= 75:\n",
        "    print(\"Passed\")\n",
        "elif grade == 74:\n",
        "    print(\"Remedial\")\n",
        "else:\n",
        "    print(\"Failed\")\n"
      ],
      "metadata": {
        "colab": {
          "base_uri": "https://localhost:8080/"
        },
        "id": "fG2s2Ndyb4cK",
        "outputId": "6d85f86f-b42e-4ca0-f111-bee0e7549773"
      },
      "execution_count": 27,
      "outputs": [
        {
          "output_type": "stream",
          "name": "stdout",
          "text": [
            "Enter the grade: 99\n",
            "Passed\n"
          ]
        }
      ]
    }
  ]
}