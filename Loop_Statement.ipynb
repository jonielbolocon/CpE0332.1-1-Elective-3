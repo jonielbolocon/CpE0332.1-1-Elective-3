{
  "nbformat": 4,
  "nbformat_minor": 0,
  "metadata": {
    "colab": {
      "provenance": [],
      "authorship_tag": "ABX9TyOEg4YImKLVGqNdT3CiDN1R",
      "include_colab_link": true
    },
    "kernelspec": {
      "name": "python3",
      "display_name": "Python 3"
    },
    "language_info": {
      "name": "python"
    }
  },
  "cells": [
    {
      "cell_type": "markdown",
      "metadata": {
        "id": "view-in-github",
        "colab_type": "text"
      },
      "source": [
        "<a href=\"https://colab.research.google.com/github/jonielbolocon/CpE0332.1-1-Elective-3/blob/main/Loop_Statement.ipynb\" target=\"_parent\"><img src=\"https://colab.research.google.com/assets/colab-badge.svg\" alt=\"Open In Colab\"/></a>"
      ]
    },
    {
      "cell_type": "markdown",
      "source": [
        "Loop Statement"
      ],
      "metadata": {
        "id": "4ITVJCbReHdl"
      }
    },
    {
      "cell_type": "code",
      "source": [
        "#Example 1\n",
        "week = [\"Sunday\", \"Monday\", \"Tuesday\", \"Wednesday\", \"Thursday\", \"Friday\", \"Saturday\"]\n",
        "\n",
        "for i in week:\n",
        "  print(i)"
      ],
      "metadata": {
        "colab": {
          "base_uri": "https://localhost:8080/"
        },
        "id": "4NLfHU3SeJkT",
        "outputId": "a6ac657f-4d7f-4e70-bee2-0a2f027eab86"
      },
      "execution_count": null,
      "outputs": [
        {
          "output_type": "stream",
          "name": "stdout",
          "text": [
            "Sunday\n",
            "Monday\n",
            "Tuesday\n",
            "Wednesday\n",
            "Thursday\n",
            "Friday\n",
            "Saturday\n"
          ]
        }
      ]
    },
    {
      "cell_type": "markdown",
      "source": [
        "Break Statement"
      ],
      "metadata": {
        "id": "MpHIcto1hqPk"
      }
    },
    {
      "cell_type": "code",
      "source": [
        "#Example 2\n",
        "week = [\"Sunday\", \"Monday\", \"Tuesday\", \"Wednesday\", \"Thursday\", \"Friday\", \"Saturday\"]\n",
        "\n",
        "for i in week:\n",
        "  print(i)\n",
        "  if i == \"Thursday\":\n",
        "    break"
      ],
      "metadata": {
        "colab": {
          "base_uri": "https://localhost:8080/"
        },
        "id": "KarxAi_ThHt8",
        "outputId": "6ac1755d-04b0-48af-ad1e-bfab11ee1b77"
      },
      "execution_count": null,
      "outputs": [
        {
          "output_type": "stream",
          "name": "stdout",
          "text": [
            "Sunday\n",
            "Monday\n",
            "Tuesday\n",
            "Wednesday\n",
            "Thursday\n"
          ]
        }
      ]
    },
    {
      "cell_type": "markdown",
      "source": [
        "Break Statement (After)"
      ],
      "metadata": {
        "id": "idjYOwN2ibr8"
      }
    },
    {
      "cell_type": "code",
      "source": [
        "#Example 3\n",
        "\n",
        "week = [\"Sunday\", \"Monday\", \"Tuesday\", \"Wednesday\", \"Thursday\", \"Friday\", \"Saturday\"]\n",
        "\n",
        "for i in week:\n",
        "  if i == \"Thursday\":\n",
        "    break\n",
        "  print(i)\n"
      ],
      "metadata": {
        "colab": {
          "base_uri": "https://localhost:8080/"
        },
        "id": "Ev7zJGsCijN0",
        "outputId": "87e7347c-ae12-42c6-abee-226bf29ff8c6"
      },
      "execution_count": null,
      "outputs": [
        {
          "output_type": "stream",
          "name": "stdout",
          "text": [
            "Sunday\n",
            "Monday\n",
            "Tuesday\n",
            "Wednesday\n"
          ]
        }
      ]
    },
    {
      "cell_type": "markdown",
      "source": [
        "Looping through a String"
      ],
      "metadata": {
        "id": "eyZlPAN6jN2M"
      }
    },
    {
      "cell_type": "code",
      "source": [
        "#Example 4\n",
        "word = \"Python\"\n",
        "\n",
        "for i in word:\n",
        "  print(i)"
      ],
      "metadata": {
        "colab": {
          "base_uri": "https://localhost:8080/"
        },
        "id": "hUyCsBO5jRw0",
        "outputId": "fd3d24d8-46d6-4db6-ae46-9a6f9108a48f"
      },
      "execution_count": null,
      "outputs": [
        {
          "output_type": "stream",
          "name": "stdout",
          "text": [
            "P\n",
            "y\n",
            "t\n",
            "h\n",
            "o\n",
            "n\n"
          ]
        }
      ]
    },
    {
      "cell_type": "markdown",
      "source": [
        "Application No.3"
      ],
      "metadata": {
        "id": "ibofSlhajkG8"
      }
    },
    {
      "cell_type": "code",
      "source": [
        "#display only thursday using break statement\n",
        "\n",
        "week = [\"Sunday\", \"Monday\", \"Tuesday\", \"Wednesday\", \"Thursday\", \"Friday\", \"Saturday\"]\n",
        "\n",
        "for i in week:\n",
        "  if i == \"Thursday\":\n",
        "    print(i)\n",
        "    break\n"
      ],
      "metadata": {
        "colab": {
          "base_uri": "https://localhost:8080/"
        },
        "id": "MgOgKZtCjoJU",
        "outputId": "576bf67f-63a1-4a80-fa89-6cceb041627a"
      },
      "execution_count": null,
      "outputs": [
        {
          "output_type": "stream",
          "name": "stdout",
          "text": [
            "Thursday\n"
          ]
        }
      ]
    },
    {
      "cell_type": "markdown",
      "source": [
        "The range() Function"
      ],
      "metadata": {
        "id": "uBWxvP9Nle1d"
      }
    },
    {
      "cell_type": "code",
      "source": [
        "#The range() Function\n",
        "for i in range(6):\n",
        "  print(i)\n",
        "\n",
        "for i in range(2,6):\n",
        "  print(i)\n",
        "\n",
        "for i in range(2,6,2):\n",
        " print(i)"
      ],
      "metadata": {
        "colab": {
          "base_uri": "https://localhost:8080/"
        },
        "id": "5oOspjFClldl",
        "outputId": "14297e33-be2f-42d8-d455-6eee85b5eb3a"
      },
      "execution_count": null,
      "outputs": [
        {
          "output_type": "stream",
          "name": "stdout",
          "text": [
            "0\n",
            "1\n",
            "2\n",
            "3\n",
            "4\n",
            "5\n",
            "2\n",
            "3\n",
            "4\n",
            "5\n",
            "2\n",
            "4\n"
          ]
        }
      ]
    },
    {
      "cell_type": "markdown",
      "source": [
        "Nested Loops"
      ],
      "metadata": {
        "id": "sq9tMrJdmrYN"
      }
    },
    {
      "cell_type": "code",
      "source": [
        "#Nested Loops\n",
        "\n",
        "adjective = [\"red\", \"big\", \"tasty\"]\n",
        "fruits = [\"apple\", \"banana\", \"cherry\"]\n",
        "\n",
        "for i in adjective:\n",
        "  for j in fruits:\n",
        "    print(i,j)"
      ],
      "metadata": {
        "colab": {
          "base_uri": "https://localhost:8080/"
        },
        "id": "bRzSBiepmuId",
        "outputId": "88c624d8-5482-402e-d8c6-b6ca24519855"
      },
      "execution_count": null,
      "outputs": [
        {
          "output_type": "stream",
          "name": "stdout",
          "text": [
            "red apple\n",
            "red banana\n",
            "red cherry\n",
            "big apple\n",
            "big banana\n",
            "big cherry\n",
            "tasty apple\n",
            "tasty banana\n",
            "tasty cherry\n"
          ]
        }
      ]
    },
    {
      "cell_type": "markdown",
      "source": [
        "While Loop"
      ],
      "metadata": {
        "id": "cuLPluQ-nuOk"
      }
    },
    {
      "cell_type": "code",
      "source": [
        "#While Statement\n",
        "\n",
        "i = 1\n",
        "while i < 6:\n",
        "  print(i)\n",
        "  i += 1"
      ],
      "metadata": {
        "colab": {
          "base_uri": "https://localhost:8080/"
        },
        "id": "-rzWPU6Pnwzk",
        "outputId": "71a40902-93c7-4bc3-85ca-64f445994ce7"
      },
      "execution_count": null,
      "outputs": [
        {
          "output_type": "stream",
          "name": "stdout",
          "text": [
            "1\n",
            "2\n",
            "3\n",
            "4\n",
            "5\n"
          ]
        }
      ]
    },
    {
      "cell_type": "markdown",
      "source": [
        "The break Statement"
      ],
      "metadata": {
        "id": "FjSPsrTfoiq1"
      }
    },
    {
      "cell_type": "code",
      "source": [
        "#While Statement\n",
        "\n",
        "i = 1\n",
        "while i < 6:\n",
        "  print(i)\n",
        "  if i == 3:\n",
        "    break\n",
        "\n",
        "  i+=1"
      ],
      "metadata": {
        "colab": {
          "base_uri": "https://localhost:8080/"
        },
        "id": "bwv1eVy6pCb8",
        "outputId": "eb239f61-13c9-4b77-ea90-d0a960c6055a"
      },
      "execution_count": null,
      "outputs": [
        {
          "output_type": "stream",
          "name": "stdout",
          "text": [
            "1\n",
            "2\n",
            "3\n"
          ]
        }
      ]
    },
    {
      "cell_type": "markdown",
      "source": [
        "Continue Statement"
      ],
      "metadata": {
        "id": "hzkwkCE2plSJ"
      }
    },
    {
      "cell_type": "code",
      "source": [
        "#Continue Statement\n",
        "\n",
        "i = 0\n",
        "while i < 6:\n",
        "  i+= 1\n",
        "  if i == 3:\n",
        "    continue\n",
        "  print(i)"
      ],
      "metadata": {
        "colab": {
          "base_uri": "https://localhost:8080/"
        },
        "id": "JeS4qD-Wpoz6",
        "outputId": "157bd33d-82fa-4b1f-99de-b61e7927de5c"
      },
      "execution_count": null,
      "outputs": [
        {
          "output_type": "stream",
          "name": "stdout",
          "text": [
            "1\n",
            "2\n",
            "4\n",
            "5\n",
            "6\n"
          ]
        }
      ]
    },
    {
      "cell_type": "markdown",
      "source": [
        "The else statement"
      ],
      "metadata": {
        "id": "mENDtiR9rN3V"
      }
    },
    {
      "cell_type": "code",
      "source": [
        "#The else statement\n",
        "i = 1\n",
        "while i < 6:\n",
        "  print(i)\n",
        "  i += 1\n",
        "else:\n",
        "   print(\"i is no longer less than 6\")"
      ],
      "metadata": {
        "colab": {
          "base_uri": "https://localhost:8080/"
        },
        "id": "S3fTYTckrPSI",
        "outputId": "30fb256c-4136-428d-b466-3b64b169249d"
      },
      "execution_count": null,
      "outputs": [
        {
          "output_type": "stream",
          "name": "stdout",
          "text": [
            "1\n",
            "2\n",
            "3\n",
            "4\n",
            "5\n",
            "i is no longer less than 6\n"
          ]
        }
      ]
    },
    {
      "cell_type": "markdown",
      "source": [
        "Create a python program that displays Hello 0 to Hello 8\n",
        "\n"
      ],
      "metadata": {
        "id": "as5vOz_-rqkV"
      }
    },
    {
      "cell_type": "code",
      "source": [
        "#Create a python program that displays Hello 0 to Hello 10\n",
        "i = 0\n",
        "while i <= 10:\n",
        "  print(\"Hello\", i)\n",
        "  i+=1"
      ],
      "metadata": {
        "colab": {
          "base_uri": "https://localhost:8080/"
        },
        "id": "dzUF-n8xrzDV",
        "outputId": "ebaffdc6-81f5-41d6-d418-004dc41f0818"
      },
      "execution_count": null,
      "outputs": [
        {
          "output_type": "stream",
          "name": "stdout",
          "text": [
            "Hello 0\n",
            "Hello 1\n",
            "Hello 2\n",
            "Hello 3\n",
            "Hello 4\n",
            "Hello 5\n",
            "Hello 6\n",
            "Hello 7\n",
            "Hello 8\n",
            "Hello 9\n",
            "Hello 10\n"
          ]
        }
      ]
    },
    {
      "cell_type": "markdown",
      "source": [
        "Let's Try"
      ],
      "metadata": {
        "id": "bt2dmkOmso0C"
      }
    },
    {
      "cell_type": "code",
      "source": [
        "#Create a Python program that displays integer less than 10 but not less than 3\n",
        "i = 3\n",
        "while i < 10:\n",
        "    print(i)\n",
        "    i += 1\n"
      ],
      "metadata": {
        "colab": {
          "base_uri": "https://localhost:8080/"
        },
        "id": "jGJOl9-Usu-O",
        "outputId": "34295782-177e-485b-b1ba-def2d1a2b5a1"
      },
      "execution_count": null,
      "outputs": [
        {
          "output_type": "stream",
          "name": "stdout",
          "text": [
            "3\n",
            "4\n",
            "5\n",
            "6\n",
            "7\n",
            "8\n",
            "9\n"
          ]
        }
      ]
    }
  ]
}